{
 "cells": [
  {
   "cell_type": "markdown",
   "id": "a1fee651",
   "metadata": {},
   "source": [
    "**Summary**\n",
    "\n",
    "We aim to answer the question on whether the weather is more volatile in Manchester than London. A subset of this is to first check if it rains more in Manchester.\n",
    "\n",
    "The data is taken from the Met Office website, consists of several weather indicators and is a monthly time series. The two stations closest to London and Manchester are Heathrow and Ringway respectively. \n",
    "\n",
    "First, we want to get to know the data via descriptive statistics. We shall focus on the rainfall (mm) indicator."
   ]
  },
  {
   "cell_type": "code",
   "execution_count": 56,
   "id": "63eb48cf",
   "metadata": {},
   "outputs": [],
   "source": [
    "import pandas as pd\n",
    "import numpy as np\n",
    "from scipy import stats\n",
    "import math\n",
    "import matplotlib.pyplot as plt\n",
    "import statsmodels.tsa.stattools as sm\n",
    "import warnings\n",
    "warnings.filterwarnings('ignore')"
   ]
  },
  {
   "cell_type": "markdown",
   "id": "9036a1ba",
   "metadata": {},
   "source": [
    "* Read in the data as a csv files, denoting the na_values and separators"
   ]
  },
  {
   "cell_type": "code",
   "execution_count": 57,
   "id": "7c28bc0d",
   "metadata": {},
   "outputs": [
    {
     "data": {
      "text/html": [
       "<div>\n",
       "<style scoped>\n",
       "    .dataframe tbody tr th:only-of-type {\n",
       "        vertical-align: middle;\n",
       "    }\n",
       "\n",
       "    .dataframe tbody tr th {\n",
       "        vertical-align: top;\n",
       "    }\n",
       "\n",
       "    .dataframe thead th {\n",
       "        text-align: right;\n",
       "    }\n",
       "</style>\n",
       "<table border=\"1\" class=\"dataframe\">\n",
       "  <thead>\n",
       "    <tr style=\"text-align: right;\">\n",
       "      <th></th>\n",
       "      <th>yyyy</th>\n",
       "      <th>mm</th>\n",
       "      <th>tmax</th>\n",
       "      <th>tmin</th>\n",
       "      <th>af</th>\n",
       "      <th>rain</th>\n",
       "      <th>sun</th>\n",
       "    </tr>\n",
       "  </thead>\n",
       "  <tbody>\n",
       "    <tr>\n",
       "      <th>0</th>\n",
       "      <td>1946</td>\n",
       "      <td>1</td>\n",
       "      <td>NaN</td>\n",
       "      <td>NaN</td>\n",
       "      <td>NaN</td>\n",
       "      <td>NaN</td>\n",
       "      <td>33.2</td>\n",
       "    </tr>\n",
       "    <tr>\n",
       "      <th>1</th>\n",
       "      <td>1946</td>\n",
       "      <td>2</td>\n",
       "      <td>NaN</td>\n",
       "      <td>NaN</td>\n",
       "      <td>NaN</td>\n",
       "      <td>NaN</td>\n",
       "      <td>58.2</td>\n",
       "    </tr>\n",
       "    <tr>\n",
       "      <th>2</th>\n",
       "      <td>1946</td>\n",
       "      <td>3</td>\n",
       "      <td>NaN</td>\n",
       "      <td>NaN</td>\n",
       "      <td>NaN</td>\n",
       "      <td>NaN</td>\n",
       "      <td>109.8</td>\n",
       "    </tr>\n",
       "    <tr>\n",
       "      <th>3</th>\n",
       "      <td>1946</td>\n",
       "      <td>4</td>\n",
       "      <td>NaN</td>\n",
       "      <td>NaN</td>\n",
       "      <td>NaN</td>\n",
       "      <td>NaN</td>\n",
       "      <td>136.3</td>\n",
       "    </tr>\n",
       "    <tr>\n",
       "      <th>4</th>\n",
       "      <td>1946</td>\n",
       "      <td>5</td>\n",
       "      <td>NaN</td>\n",
       "      <td>NaN</td>\n",
       "      <td>NaN</td>\n",
       "      <td>NaN</td>\n",
       "      <td>216.1</td>\n",
       "    </tr>\n",
       "  </tbody>\n",
       "</table>\n",
       "</div>"
      ],
      "text/plain": [
       "   yyyy  mm  tmax  tmin  af  rain    sun\n",
       "0  1946   1   NaN   NaN NaN   NaN   33.2\n",
       "1  1946   2   NaN   NaN NaN   NaN   58.2\n",
       "2  1946   3   NaN   NaN NaN   NaN  109.8\n",
       "3  1946   4   NaN   NaN NaN   NaN  136.3\n",
       "4  1946   5   NaN   NaN NaN   NaN  216.1"
      ]
     },
     "execution_count": 57,
     "metadata": {},
     "output_type": "execute_result"
    }
   ],
   "source": [
    "ringway = pd.read_csv('Ringway.csv', sep='[ ]{2,}', na_values = '---')\n",
    "heathrow = pd.read_csv('Heathrow.csv', sep='[ ]{2,}', na_values = '---')\n",
    "ringway.head()"
   ]
  },
  {
   "cell_type": "markdown",
   "id": "cdd582c8",
   "metadata": {},
   "source": [
    "* Calculate the mean, variance and standard deviation\n",
    "* Calculate median and mode\n",
    "* Calculate quantiles\n",
    "* Ignore na_values"
   ]
  },
  {
   "cell_type": "code",
   "execution_count": 58,
   "id": "7b528358",
   "metadata": {},
   "outputs": [
    {
     "name": "stdout",
     "output_type": "stream",
     "text": [
      "Ringway rainfall has mean = 67.89296577946767, variance = 1174.9068266159695 and standard deviation = 34.276913901574765\n",
      "Heathrow rainfall has mean = 50.57097505668935 and variance = 890.159542521511 and standard deviation = 29.835541599265646\n"
     ]
    }
   ],
   "source": [
    "print(f\"Ringway rainfall has mean = {np.nanmean(ringway['rain'])}, variance = {ringway['rain'].var()} and standard deviation = {ringway['rain'].var()**0.5}\")\n",
    "print(f\"Heathrow rainfall has mean = {np.nanmean(heathrow['rain'])} and variance = {heathrow['rain'].var()} and standard deviation = {heathrow['rain'].var()**0.5}\")"
   ]
  },
  {
   "cell_type": "code",
   "execution_count": 59,
   "id": "41b5f67a",
   "metadata": {},
   "outputs": [
    {
     "name": "stdout",
     "output_type": "stream",
     "text": [
      "The median of Ringway rainfall is 63.1 while Heathrow's is 46.8.\n"
     ]
    }
   ],
   "source": [
    "print(f\"The median of Ringway rainfall is {np.nanmedian(ringway['rain'])} while Heathrow's is {np.nanmedian(heathrow['rain'])}.\")"
   ]
  },
  {
   "cell_type": "code",
   "execution_count": 60,
   "id": "95cb3480",
   "metadata": {},
   "outputs": [
    {
     "name": "stdout",
     "output_type": "stream",
     "text": [
      "Ringway's rainfall mode is = [39.]\n",
      "Heathrow's rainfall mode is = [26.]\n"
     ]
    }
   ],
   "source": [
    "print(f\"Ringway's rainfall mode is = {stats.mode(ringway['rain'])[0]}\")\n",
    "print(f\"Heathrow's rainfall mode is = {stats.mode(heathrow['rain'])[0]}\")"
   ]
  },
  {
   "cell_type": "code",
   "execution_count": 61,
   "id": "71843ccc",
   "metadata": {},
   "outputs": [
    {
     "name": "stdout",
     "output_type": "stream",
     "text": [
      "[44.075 86.9  ]\n",
      "[27.85 68.8 ]\n"
     ]
    }
   ],
   "source": [
    "print(np.nanquantile(ringway['rain'], q=[0.25, 0.75]))\n",
    "print(np.nanquantile(heathrow['rain'], q=[0.25, 0.75]))"
   ]
  },
  {
   "cell_type": "markdown",
   "id": "5cb168ac",
   "metadata": {},
   "source": [
    "**Intepretation**\n",
    "We can see the rainfall in Manchester has a higher mean, standard deviation, median, mode and quantile values. This suggests that it does rain more in Manchester than London, and we shall take this as our hypothesis.\n",
    "\n",
    "Now, let us observe the histogram of our rainfall data for Manchester and London"
   ]
  },
  {
   "cell_type": "code",
   "execution_count": 62,
   "id": "f132e218",
   "metadata": {},
   "outputs": [
    {
     "data": {
      "image/png": "[encoded data removed]",
      "text/plain": [
       "<Figure size 432x288 with 1 Axes>"
      ]
     },
     "metadata": {},
     "output_type": "display_data"
    }
   ],
   "source": [
    "plt.style.use('ggplot')\n",
    "plt.hist(ringway['rain'], alpha=0.5, label=\"Ringway\")\n",
    "plt.hist(heathrow['rain'], alpha=0.5, label=\"Heathrow\")\n",
    "plt.xlabel(\"Rainfall\")\n",
    "plt.ylabel(\"Count\")\n",
    "plt.legend(loc='upper right')\n",
    "plt.show()"
   ]
  },
  {
   "cell_type": "markdown",
   "id": "0d8fe775",
   "metadata": {},
   "source": [
    "* The two distributions are right skewed\n",
    "* Heathrow's counts are higher as there has been more data recorded"
   ]
  },
  {
   "cell_type": "code",
   "execution_count": 63,
   "id": "954a7ed1",
   "metadata": {},
   "outputs": [
    {
     "name": "stdout",
     "output_type": "stream",
     "text": [
      "706\n",
      "882\n"
     ]
    }
   ],
   "source": [
    "print(len(ringway.index))\n",
    "print(len(heathrow.index))"
   ]
  },
  {
   "cell_type": "markdown",
   "id": "72382280",
   "metadata": {},
   "source": [
    "**Observing data from a time series point of view**"
   ]
  },
  {
   "cell_type": "code",
   "execution_count": 64,
   "id": "089f699b",
   "metadata": {},
   "outputs": [
    {
     "data": {
      "image/png": "[encoded data removed]",
      "text/plain": [
       "<Figure size 432x288 with 2 Axes>"
      ]
     },
     "metadata": {},
     "output_type": "display_data"
    }
   ],
   "source": [
    "plt.subplot(1, 2, 1)\n",
    "plt.plot(ringway['rain'], color=\"red\", label=\"Ringway rainfall\")\n",
    "plt.legend(loc='upper right')\n",
    "plt.subplot(1, 2, 2)\n",
    "plt.plot(heathrow['rain'], color=\"blue\", label=\"Heathrow rainfall\")\n",
    "plt.legend(loc='upper right')\n",
    "plt.show()"
   ]
  },
  {
   "cell_type": "markdown",
   "id": "bf2a10a0",
   "metadata": {},
   "source": [
    "**Interpretation**\n",
    "The data seems to follow an ARCH/GARCH sort of model\n",
    "\n",
    "Calculate acf for rainfall ignoring na_values"
   ]
  },
  {
   "cell_type": "code",
   "execution_count": 65,
   "id": "e64aa18b",
   "metadata": {},
   "outputs": [
    {
     "name": "stdout",
     "output_type": "stream",
     "text": [
      "[1.         0.0563346  0.03422985 0.00608034]\n",
      "[ 1.          0.07042384  0.05047462 -0.01235316]\n"
     ]
    }
   ],
   "source": [
    "print(sm.acf(ringway[\"rain\"], nlags = 3, missing = \"drop\"))\n",
    "print(sm.acf(heathrow[\"rain\"], nlags = 3, missing = \"drop\"))"
   ]
  },
  {
   "cell_type": "markdown",
   "id": "e2e27b8c",
   "metadata": {},
   "source": [
    "* Investigate relation between rainfall and hours of sun"
   ]
  },
  {
   "cell_type": "code",
   "execution_count": 66,
   "id": "7c561538",
   "metadata": {},
   "outputs": [
    {
     "data": {
      "image/png": "[encoded data removed]",
      "text/plain": [
       "<Figure size 432x288 with 1 Axes>"
      ]
     },
     "metadata": {},
     "output_type": "display_data"
    }
   ],
   "source": [
    "plt.plot(ringway['rain'], ringway['sun'], 'b+')\n",
    "plt.show()"
   ]
  },
  {
   "cell_type": "markdown",
   "id": "065c07fd",
   "metadata": {},
   "source": [
    "* Calculate the correlation (should be negative, which makes sence)"
   ]
  },
  {
   "cell_type": "code",
   "execution_count": 67,
   "id": "0b3be4a3",
   "metadata": {},
   "outputs": [
    {
     "data": {
      "text/plain": [
       "-0.22754335846002277"
      ]
     },
     "execution_count": 67,
     "metadata": {},
     "output_type": "execute_result"
    }
   ],
   "source": [
    "ringway['rain'].corr(ringway['sun'])"
   ]
  }
 ],
 "metadata": {
  "kernelspec": {
   "display_name": "Python 3",
   "language": "python",
   "name": "python3"
  },
  "language_info": {
   "codemirror_mode": {
    "name": "ipython",
    "version": 3
   },
   "file_extension": ".py",
   "mimetype": "text/x-python",
   "name": "python",
   "nbconvert_exporter": "python",
   "pygments_lexer": "ipython3",
   "version": "3.9.6"
  }
 },
 "nbformat": 4,
 "nbformat_minor": 5
}
